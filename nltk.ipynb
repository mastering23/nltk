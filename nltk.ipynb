{
 "cells": [
  {
   "cell_type": "markdown",
   "id": "1c29a99f-94ae-4dbb-9000-9463ffe7a503",
   "metadata": {},
   "source": [
    "# Intro NLTK\n",
    "- NLTK, or Natural Language Toolkit, is a Python library designed for natural language processing (NLP). It provides tools and resources for tasks like tokenization, stemming, lemmatization, part-of-speech tagging, parsing, and semantic reasoning. NLTK also includes corpora and lexical resources, making it a comprehensive platform for working with human language data. It is widely used in research, education, and industry for tasks such as text analysis, sentiment analysis, and language modeling"
   ]
  },
  {
   "cell_type": "markdown",
   "id": "a5fd7716-b01a-45d8-ae25-7d81e0e03413",
   "metadata": {},
   "source": [
    "### Stemming method \n",
    "- in Python, particularly within the context of Natural Language Processing (NLP), refers to the process of reducing words to their root or base form (stem). This technique aims to normalize text data by removing suffixes, prefixes, or inflections, thus grouping related words under a common stem. Stemming is used to simplify text analysis, improve information retrieval accuracy, and reduce the dimensionality of text data"
   ]
  }
 ],
 "metadata": {
  "kernelspec": {
   "display_name": "Python [conda env:base] *",
   "language": "python",
   "name": "conda-base-py"
  },
  "language_info": {
   "codemirror_mode": {
    "name": "ipython",
    "version": 3
   },
   "file_extension": ".py",
   "mimetype": "text/x-python",
   "name": "python",
   "nbconvert_exporter": "python",
   "pygments_lexer": "ipython3",
   "version": "3.12.3"
  }
 },
 "nbformat": 4,
 "nbformat_minor": 5
}
