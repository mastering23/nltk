{
 "cells": [
  {
   "cell_type": "markdown",
   "id": "1c29a99f-94ae-4dbb-9000-9463ffe7a503",
   "metadata": {},
   "source": [
    "# Intro NLTK ⚗️\n",
    "- NLTK, or Natural Language Toolkit, is a Python library designed for natural language processing (NLP). It provides tools and resources for tasks like tokenization, stemming, lemmatization, part-of-speech tagging, parsing, and semantic reasoning. NLTK also includes corpora and lexical resources, making it a comprehensive platform for working with human language data. It is widely used in research, education, and industry for tasks such as text analysis, sentiment analysis, and language modeling"
   ]
  },
  {
   "cell_type": "markdown",
   "id": "a5fd7716-b01a-45d8-ae25-7d81e0e03413",
   "metadata": {},
   "source": [
    "### Stemming method 🔍\n",
    "- in Python, particularly within the context of Natural Language Processing (NLP), refers to the process of reducing words to their root or base form (stem). This technique aims to normalize text data by removing suffixes, prefixes, or inflections, thus grouping related words under a common stem. Stemming is used to simplify text analysis, improve information retrieval accuracy, and reduce the dimensionality of text data"
   ]
  },
  {
   "cell_type": "code",
   "execution_count": 5,
   "id": "757095d8-279c-42bf-9bf0-5e46f0bab1d0",
   "metadata": {},
   "outputs": [],
   "source": [
    "import nltk"
   ]
  },
  {
   "cell_type": "code",
   "execution_count": 7,
   "id": "c681c8cf-55ac-442e-9912-3fbf3ba0bd29",
   "metadata": {},
   "outputs": [],
   "source": [
    "from nltk.stem.porter import PorterStemmer"
   ]
  },
  {
   "cell_type": "code",
   "execution_count": 9,
   "id": "dee54be0-5f0b-4a9d-984e-efe56523b9f2",
   "metadata": {},
   "outputs": [],
   "source": [
    "p_stemmer = PorterStemmer()"
   ]
  },
  {
   "cell_type": "code",
   "execution_count": 15,
   "id": "6d2a9de1-0498-4f49-ba8e-5c0a83f6b980",
   "metadata": {},
   "outputs": [],
   "source": [
    "words = ['run','runner', 'ran','runs','running','because','cause','pack','packages','logger','log','login','easily','fairly']"
   ]
  },
  {
   "cell_type": "code",
   "execution_count": 17,
   "id": "8c704ddd-abe0-4c19-ae1f-20cd0f475208",
   "metadata": {},
   "outputs": [
    {
     "name": "stdout",
     "output_type": "stream",
     "text": [
      "run----->run\n",
      "runner----->runner\n",
      "ran----->ran\n",
      "runs----->run\n",
      "running----->run\n",
      "because----->becaus\n",
      "cause----->caus\n",
      "pack----->pack\n",
      "packages----->packag\n",
      "logger----->logger\n",
      "log----->log\n",
      "login----->login\n",
      "easily----->easili\n",
      "fairly----->fairli\n"
     ]
    }
   ],
   "source": [
    "for word in words:\n",
    "    print(word + '----->' + p_stemmer.stem(word))"
   ]
  },
  {
   "cell_type": "code",
   "execution_count": 24,
   "id": "7081addb-ccfa-4126-af98-0d6adc915b52",
   "metadata": {},
   "outputs": [],
   "source": [
    "from nltk.stem.snowball import SnowballStemmer"
   ]
  },
  {
   "cell_type": "code",
   "execution_count": 26,
   "id": "48e64137-3dd0-4b10-b1f6-dab6bc7c3669",
   "metadata": {},
   "outputs": [],
   "source": [
    "s_temmer = SnowballStemmer(language='english')"
   ]
  },
  {
   "cell_type": "code",
   "execution_count": 28,
   "id": "9f837f61-38c2-41bf-815c-b15d3d80832b",
   "metadata": {},
   "outputs": [
    {
     "name": "stdout",
     "output_type": "stream",
     "text": [
      "run----->run\n",
      "runner----->runner\n",
      "ran----->ran\n",
      "runs----->run\n",
      "running----->run\n",
      "because----->becaus\n",
      "cause----->caus\n",
      "pack----->pack\n",
      "packages----->packag\n",
      "logger----->logger\n",
      "log----->log\n",
      "login----->login\n",
      "easily----->easili\n",
      "fairly----->fairli\n"
     ]
    }
   ],
   "source": [
    "for word in words:\n",
    "    print(word + '----->' + s_temmer.stem(word))"
   ]
  },
  {
   "cell_type": "markdown",
   "id": "96c38369-b1e6-4c9d-8d9e-7621e9767ba6",
   "metadata": {},
   "source": [
    "# Lemmatization 🗳️\n",
    "- In Python, lemmatization is a process of converting a word to its base or root form, also known as a lemma, which is a dictionary form of the word. Unlike stemming, which simply removes suffixes or prefixes, lemmatization considers the word's context and part of speech to ensure the result is a valid, meaningful dictionary word"
   ]
  },
  {
   "cell_type": "code",
   "execution_count": 33,
   "id": "c7f64f08-8b69-4f24-a8be-7c4bb57934dc",
   "metadata": {},
   "outputs": [],
   "source": [
    "import spacy\n",
    "nlp =spacy.load('en_core_web_sm')"
   ]
  },
  {
   "cell_type": "code",
   "execution_count": 35,
   "id": "1436c786-0d62-4dd4-aaeb-e60f2ff10d27",
   "metadata": {},
   "outputs": [],
   "source": [
    "doc1 =  nlp(u'I am a runner running in a race because i love to run since I ran today ')"
   ]
  },
  {
   "cell_type": "code",
   "execution_count": 43,
   "id": "6be4bbcc-4fd0-4b73-8b72-13d117ce6c77",
   "metadata": {},
   "outputs": [
    {
     "name": "stdout",
     "output_type": "stream",
     "text": [
      "I \t PRON 4690420944186131903 \t I\n",
      "am \t AUX 10382539506755952630 \t be\n",
      "a \t DET 11901859001352538922 \t a\n",
      "runner \t NOUN 12640964157389618806 \t runner\n",
      "running \t VERB 12767647472892411841 \t run\n",
      "in \t ADP 3002984154512732771 \t in\n",
      "a \t DET 11901859001352538922 \t a\n",
      "race \t NOUN 8048469955494714898 \t race\n",
      "because \t SCONJ 16950148841647037698 \t because\n",
      "i \t PRON 4690420944186131903 \t I\n",
      "love \t VERB 3702023516439754181 \t love\n",
      "to \t PART 3791531372978436496 \t to\n",
      "run \t VERB 12767647472892411841 \t run\n",
      "since \t SCONJ 10066841407251338481 \t since\n",
      "I \t PRON 4690420944186131903 \t I\n",
      "ran \t VERB 12767647472892411841 \t run\n",
      "today \t NOUN 11042482332948150395 \t today\n"
     ]
    }
   ],
   "source": [
    "for token in doc1:\n",
    "    print(token.text,'\\t',token.pos_,token.lemma,'\\t',token.lemma_)"
   ]
  },
  {
   "cell_type": "markdown",
   "id": "a922fee8-d6f1-4ca0-a428-11b35a32bd10",
   "metadata": {},
   "source": [
    "## 📘 Here's what the preview definition shows:\n",
    "- 🔤 Root Word | 🧬 Type of Root Word | 🧭 Hash Reference (Pointer) to en_core_web_sm library | 📚 References the Root Word from the previously mentioned library"
   ]
  }
 ]
}
