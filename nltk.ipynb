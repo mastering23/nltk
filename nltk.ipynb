{
 "cells": [
  {
   "cell_type": "markdown",
   "id": "1c29a99f-94ae-4dbb-9000-9463ffe7a503",
   "metadata": {},
   "source": [
    "# Intro NLTK\n",
    "- NLTK, or Natural Language Toolkit, is a Python library designed for natural language processing (NLP). It provides tools and resources for tasks like tokenization, stemming, lemmatization, part-of-speech tagging, parsing, and semantic reasoning. NLTK also includes corpora and lexical resources, making it a comprehensive platform for working with human language data. It is widely used in research, education, and industry for tasks such as text analysis, sentiment analysis, and language modeling"
   ]
  },
  {
   "cell_type": "markdown",
   "id": "a5fd7716-b01a-45d8-ae25-7d81e0e03413",
   "metadata": {},
   "source": [
    "### Stemming method \n",
    "- in Python, particularly within the context of Natural Language Processing (NLP), refers to the process of reducing words to their root or base form (stem). This technique aims to normalize text data by removing suffixes, prefixes, or inflections, thus grouping related words under a common stem. Stemming is used to simplify text analysis, improve information retrieval accuracy, and reduce the dimensionality of text data"
   ]
  },
  {
   "cell_type": "code",
   "execution_count": 5,
   "id": "757095d8-279c-42bf-9bf0-5e46f0bab1d0",
   "metadata": {},
   "outputs": [],
   "source": [
    "import nltk"
   ]
  },
  {
   "cell_type": "code",
   "execution_count": 7,
   "id": "c681c8cf-55ac-442e-9912-3fbf3ba0bd29",
   "metadata": {},
   "outputs": [],
   "source": [
    "from nltk.stem.porter import PorterStemmer"
   ]
  },
  {
   "cell_type": "code",
   "execution_count": 9,
   "id": "dee54be0-5f0b-4a9d-984e-efe56523b9f2",
   "metadata": {},
   "outputs": [],
   "source": [
    "p_stemmer = PorterStemmer()"
   ]
  },
  {
   "cell_type": "code",
   "execution_count": 15,
   "id": "6d2a9de1-0498-4f49-ba8e-5c0a83f6b980",
   "metadata": {},
   "outputs": [],
   "source": [
    "words = ['run','runner', 'ran','runs','running','because','cause','pack','packages','logger','log','login','easily','fairly']"
   ]
  },
  {
   "cell_type": "code",
   "execution_count": 17,
   "id": "8c704ddd-abe0-4c19-ae1f-20cd0f475208",
   "metadata": {},
   "outputs": [
    {
     "name": "stdout",
     "output_type": "stream",
     "text": [
      "run----->run\n",
      "runner----->runner\n",
      "ran----->ran\n",
      "runs----->run\n",
      "running----->run\n",
      "because----->becaus\n",
      "cause----->caus\n",
      "pack----->pack\n",
      "packages----->packag\n",
      "logger----->logger\n",
      "log----->log\n",
      "login----->login\n",
      "easily----->easili\n",
      "fairly----->fairli\n"
     ]
    }
   ],
   "source": [
    "for word in words:\n",
    "    print(word + '----->' + p_stemmer.stem(word))"
   ]
  },
  {
   "cell_type": "code",
   "execution_count": 24,
   "id": "7081addb-ccfa-4126-af98-0d6adc915b52",
   "metadata": {},
   "outputs": [],
   "source": [
    "from nltk.stem.snowball import SnowballStemmer"
   ]
  },
  {
   "cell_type": "code",
   "execution_count": 26,
   "id": "48e64137-3dd0-4b10-b1f6-dab6bc7c3669",
   "metadata": {},
   "outputs": [],
   "source": [
    "s_temmer = SnowballStemmer(language='english')"
   ]
  },
  {
   "cell_type": "code",
   "execution_count": 28,
   "id": "9f837f61-38c2-41bf-815c-b15d3d80832b",
   "metadata": {},
   "outputs": [
    {
     "name": "stdout",
     "output_type": "stream",
     "text": [
      "run----->run\n",
      "runner----->runner\n",
      "ran----->ran\n",
      "runs----->run\n",
      "running----->run\n",
      "because----->becaus\n",
      "cause----->caus\n",
      "pack----->pack\n",
      "packages----->packag\n",
      "logger----->logger\n",
      "log----->log\n",
      "login----->login\n",
      "easily----->easili\n",
      "fairly----->fairli\n"
     ]
    }
   ],
   "source": [
    "for word in words:\n",
    "    print(word + '----->' + p_stemmer.stem(word))"
   ]
  },
  {
   "cell_type": "code",
   "execution_count": null,
   "id": "c09a6f13-f0e4-44a0-93f3-cb4ef7df156e",
   "metadata": {},
   "outputs": [],
   "source": []
  }
 ],
 "metadata": {
  "kernelspec": {
   "display_name": "Python [conda env:base] *",
   "language": "python",
   "name": "conda-base-py"
  },
  "language_info": {
   "codemirror_mode": {
    "name": "ipython",
    "version": 3
   },
   "file_extension": ".py",
   "mimetype": "text/x-python",
   "name": "python",
   "nbconvert_exporter": "python",
   "pygments_lexer": "ipython3",
   "version": "3.12.3"
  }
 },
 "nbformat": 4,
 "nbformat_minor": 5
}
